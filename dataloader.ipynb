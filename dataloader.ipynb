{
 "cells": [
  {
   "cell_type": "markdown",
   "id": "5aa13821",
   "metadata": {},
   "source": [
    "\n",
    "\n",
    "# Import"
   ]
  },
  {
   "cell_type": "code",
   "execution_count": null,
   "id": "29528eca-b1de-4657-b1e7-a3b698c3df5c",
   "metadata": {
    "tags": []
   },
   "outputs": [],
   "source": [
    "\n",
    "from torchinfo import summary\n",
    "import sys\n",
    "import geopandas as gpd\n",
    "from tqdm import tqdm\n",
    "from torch.utils.data import DataLoader, ConcatDataset\n",
    "from torch.utils.data import Dataset\n",
    "import rasterio as rio\n",
    "from typing import Any, List\n",
    "from rasterio.features import rasterize\n",
    "from rasterio.plot import reshape_as_image\n",
    "from rasterio.windows import from_bounds, transform as w_transform\n",
    "from torchvision.utils import make_grid, draw_segmentation_masks\n",
    "import numpy as np\n",
    "from pathlib import Path\n",
    "import os\n",
    "import kornia.augmentation as K\n",
    "from typing import Any\n",
    "from lightning.pytorch.utilities.types import STEP_OUTPUT\n",
    "import torch\n",
    "import torch.optim as optim\n",
    "from torch.utils.tensorboard import SummaryWriter\n",
    "import segmentation_models_pytorch as smp\n",
    "from lightning.pytorch.loggers import TensorBoardLogger\n",
    "from lightning.pytorch import LightningModule\n",
    "from torchvision.utils import make_grid, draw_segmentation_masks\n",
    "from dotenv import load_dotenv\n",
    "load_dotenv()\n",
    "import geopandas as gpd\n",
    "import os\n",
    "from pathlib import Path\n",
    "from math import floor\n",
    "from itertools import product\n",
    "from shapely.geometry import box"
   ]
  },
  {
   "cell_type": "markdown",
   "id": "d9d55814-8d9d-4d2e-822b-b8e813fdb8a5",
   "metadata": {},
   "source": [
    "# Tiles computing"
   ]
  },
  {
   "cell_type": "code",
   "execution_count": null,
   "id": "e854c97e-55ab-48be-9cc1-41d850423537",
   "metadata": {
    "tags": []
   },
   "outputs": [],
   "source": [
    "#  Finding the image CRS to compute appropriately the grid geometry using GeoPandas.\n",
    "train_val_path = 'Imagery/Train_Val/Train_04_Apr.tif'\n",
    "source_db = rio.open(train_val_path)\n",
    "image_crs = source_db.crs\n",
    "image_crs"
   ]
  },
  {
   "cell_type": "code",
   "execution_count": 16,
   "id": "c38bf6f7-8b42-459f-895b-59688cbcf69b",
   "metadata": {
    "tags": []
   },
   "outputs": [],
   "source": [
    "#  Computing the virtual tiles geometry\n",
    "overlap = 0.5\n",
    "tile_width = 256\n",
    "tile_height = 256\n",
    "\n",
    "x_indices = range(0, source_db.width, floor(tile_width * (1 - overlap)))\n",
    "y_indices = range(0, source_db.height, floor(tile_height * (1 - overlap)))\n",
    "grid_coordinates = product(y_indices, x_indices) # Not a typo, the raster starts from the top-left coordinate. \n",
    "\n",
    "def tile_box_for_coordinates(grid_x, grid_y):\n",
    "    tile_min = source_db.xy(grid_x, grid_y)\n",
    "    tile_max = source_db.xy(grid_x + tile_width, grid_y + tile_height)\n",
    "    tile_box = box(tile_min[0], tile_min[1], tile_max[0], tile_max[1])\n",
    "    return tile_box\n",
    "grid_boxes = [tile_box_for_coordinates(grid_xy[0], grid_xy[1]) for grid_xy in grid_coordinates]\n",
    "\n",
    "raster_tiles_df = gpd.GeoDataFrame(geometry=grid_boxes, crs=image_crs)\n",
    "raster_tiles_df[\"height\"] = tile_height\n",
    "raster_tiles_df[\"width\"] = tile_width\n",
    "# generate a visual interactive map\n",
    "raster_tiles_df.explore(style_kwds=dict(fill=False))"
   ]
  },
  {
   "cell_type": "code",
   "execution_count": null,
   "id": "6e7f7b08-f11e-492b-a4fa-19aac08b736c",
   "metadata": {},
   "outputs": [],
   "source": [
    "# load train and validation sets\n",
    "train_set_df = gpd.read_file('Area Train_Val_test/Train_Area.geojson')\n",
    "val_set_df = gpd.read_file('Area Train_Val_test/Validation_Area.geojson')\n",
    "# generate a visual interactive map\n",
    "val_area_map = val_set_df.explore(style_kwds=dict(fill=False, color='red'))\n",
    "\n",
    "# The `unary_union` method is used bacause the used DataFrame methods expect \n",
    "# Series of the same length but work with broadcast semantics.\n",
    "#\n",
    "# We consider val tiles those that have more than 50% overlap with the val \n",
    "# area polygons.  \n",
    "val_overlap_query = (raster_tiles_df.intersection(val_set_df.geometry.unary_union).area / raster_tiles_df.geometry.area) > 0.5\n",
    "val_set_tiles = raster_tiles_df[val_overlap_query]\n",
    "\n",
    "# We consider train tiles those that have more than 50% overlap with the train\n",
    "# area polygons and do not intersect with the val area.\n",
    "train_overlap_query = (raster_tiles_df.intersection(train_set_df.geometry.unary_union).area / raster_tiles_df.geometry.area) > 0.5\n",
    "train_set_tiles = raster_tiles_df[train_overlap_query & ~(raster_tiles_df.contains(val_set_tiles.geometry.unary_union))]\n",
    "\n",
    "print(f\"Got {len(train_set_tiles)} training tiles and {len(val_set_tiles)} val tiles\")\n",
    "# generate a visual interactive map\n",
    "val_set_tiles.explore(m=val_area_map, style_kwds=dict(fill=False, color='blue'))\n",
    "train_set_tiles.explore(m=val_area_map, style_kwds=dict(fill=False, color='green'))\n",
    "\n",
    "#  Saving the tiles to file.\n",
    "val_set_tiles.to_file(\"valTiles_CLS_UTM.geojson\", driver='GeoJSON', index=False)\n",
    "train_set_tiles.to_file(\"TrainTiles_CLS_UTM.geojson\", driver='GeoJSON', index=False)"
   ]
  },
  {
   "cell_type": "code",
   "execution_count": null,
   "id": "6e87d5b9-ac37-495e-a86f-3999998e78a4",
   "metadata": {},
   "outputs": [],
   "source": [
    "\n",
    "class SingleRasterPalaeochannelDataset(Dataset):\n",
    "    def __init__(self, \n",
    "                 tiles_df: gpd.GeoDataFrame, \n",
    "                 source_path: Path, \n",
    "                 features_df: gpd.GeoDataFrame,\n",
    "                 aoi_df: gpd.GeoDataFrame):\n",
    "        self.tiles_df = tiles_df\n",
    "        self.source_path = source_path\n",
    "        self.features_df = features_df\n",
    "        self.aoi_df = aoi_df\n",
    "    \n",
    "    def __len__(self) -> int:\n",
    "        return len(self.tiles_df)\n",
    "    \n",
    "    def __getitem__(self, index: int) -> Any:\n",
    "        # Get the vectorial tile from the tiles GeoDataFrame.\n",
    "        tile = self.tiles_df.loc[index]\n",
    "        \n",
    "        with rio.open(self.source_path) as source_db:\n",
    "            # Get the raster window from the source dataset.\n",
    "            tile_window = from_bounds(*tile.geometry.bounds, transform=source_db.transform)\n",
    "            tile_raster: np.ndarray = source_db.read(window=tile_window)\n",
    "            tile_raster[np.isnan(tile_raster)] = 0\n",
    "            if tile_raster.dtype == np.uint16:\n",
    "                tile_raster = tile_raster.astype(np.int32)\n",
    "            \n",
    "            # Compute the window's Affine transform for features and aoi rasterization\n",
    "            window_transform = w_transform(tile_window, source_db.transform)\n",
    "            mask_shape = (tile_raster.shape[1], tile_raster.shape[2])\n",
    "            mask = rasterize(self.features_df.geometry, out_shape=mask_shape, transform=window_transform)\n",
    "            aoi_mask = rasterize(self.aoi_df.geometry, out_shape=mask_shape, transform=window_transform)\n",
    "            \n",
    "            # Mask out data and features falling outside of aoi.\n",
    "            tile_raster = tile_raster * aoi_mask\n",
    "            mask = mask * aoi_mask\n",
    "            \n",
    "            item = dict(\n",
    "                image = reshape_as_image(tile_raster),\n",
    "                mask = mask,\n",
    "                # add geometry and geografical informations for plotting.\n",
    "                tile_geometry = tile.geometry.wkt,\n",
    "                tile_crs = str(self.tiles_df.crs)\n",
    "            )\n",
    "            return item\n"
   ]
  },
  {
   "cell_type": "markdown",
   "id": "916d1160",
   "metadata": {},
   "source": [
    "# Loader"
   ]
  },
  {
   "cell_type": "code",
   "execution_count": null,
   "id": "07ae8edd",
   "metadata": {},
   "outputs": [],
   "source": [
    "# creating Dataloaders\n",
    "train_tiles_df = gpd.read_file('TrainTiles_CLS_UTM.geojson')\n",
    "train_aoi_df = gpd.read_file('Area Train_Val_test/Train_Area.geojson')\n",
    "val_tiles_df = gpd.read_file('valTiles_CLS_UTM.geojson')\n",
    "val_aoi_df = gpd.read_file('Area Train_Val_test/Validation_Area.geojson')\n",
    "\n",
    "april_tif_path = 'Imagery/Train_Val/Train_04_Apr.tif'\n",
    "march_tif_path = 'Imagery/Train_Val/Train_03_March.tif'\n",
    "march_april_features_df = gpd.read_file('annotations/L1_Train_March-April.geojson')\n",
    "\n",
    "aug_tif_path = 'Imagery/Train_Val/Train_08_Aug.tif'\n",
    "jul_tif_path = 'Imagery/Train_Val/Train_07_Jul.tif'\n",
    "jul_aug_features_df = gpd.read_file('annotations/L2_Train_July-August.geojson')\n",
    "\n",
    "nov_tif_path = 'Imagery/Train_Val/Train_11_Nov.tif'\n",
    "jan_tif_path = 'Imagery/Train_Val/Train_12_Jan23.tif'\n",
    "nov_jan_features_df = gpd.read_file('annotations/L3_Train_November-December.geojson')"
   ]
  },
  {
   "cell_type": "markdown",
   "id": "c0e0ff01",
   "metadata": {},
   "source": [
    "# Loader for TR1 setting"
   ]
  },
  {
   "cell_type": "code",
   "execution_count": null,
   "id": "361be1c3",
   "metadata": {},
   "outputs": [],
   "source": [
    "# creating dataloader for TR1\n",
    "TR1_april_train_dataset = SingleRasterPalaeochannelDataset(train_tiles_df, april_tif_path, march_april_features_df, train_aoi_df)\n",
    "TR1_august_train_dataset = SingleRasterPalaeochannelDataset(train_tiles_df, aug_tif_path, jul_aug_features_df, train_aoi_df)\n",
    "TR1_nov_train_dataset = SingleRasterPalaeochannelDataset(train_tiles_df, nov_tif_path, nov_jan_features_df, train_aoi_df)\n",
    "\n",
    "TR1_april_val_dataset = SingleRasterPalaeochannelDataset(val_tiles_df, april_tif_path, march_april_features_df, val_aoi_df)\n",
    "TR1_august_val_dataset = SingleRasterPalaeochannelDataset(val_tiles_df, aug_tif_path, jul_aug_features_df, val_aoi_df)\n",
    "TR1_nov_val_dataset = SingleRasterPalaeochannelDataset(val_tiles_df, nov_tif_path, nov_jan_features_df, val_aoi_df)\n",
    "\n",
    "full_train_dataset = ConcatDataset([TR1_april_train_dataset, TR1_august_train_dataset, TR1_nov_train_dataset])\n",
    "full_val_dataset = ConcatDataset([TR1_april_val_dataset, TR1_august_val_dataset, TR1_nov_val_dataset])\n",
    "print(f\"Datasets build! {len(full_train_dataset)} training tiles, {len(full_val_dataset)} validation tiles.\")\n"
   ]
  },
  {
   "cell_type": "markdown",
   "id": "afd86ffa",
   "metadata": {},
   "source": [
    "# Loader for TR2 setting"
   ]
  },
  {
   "cell_type": "code",
   "execution_count": null,
   "id": "ffb00895",
   "metadata": {},
   "outputs": [],
   "source": [
    "\n",
    "# TR2_april_train_dataset = SingleRasterPalaeochannelDataset(train_tiles_df, april_tif_path, march_april_features_df, train_aoi_df)\n",
    "# TR2_march_train_dataset = SingleRasterPalaeochannelDataset(train_tiles_df, march_tif_path, march_april_features_df, train_aoi_df)\n",
    "# TR2_august_train_dataset = SingleRasterPalaeochannelDataset(train_tiles_df, aug_tif_path, jul_aug_features_df, train_aoi_df)\n",
    "# TR2_july_train_dataset = SingleRasterPalaeochannelDataset(train_tiles_df, jul_tif_path, jul_aug_features_df, train_aoi_df)\n",
    "# TR2_nov_train_dataset = SingleRasterPalaeochannelDataset(train_tiles_df, nov_tif_path, nov_jan_features_df, train_aoi_df)\n",
    "# TR2_jan_train_dataset = SingleRasterPalaeochannelDataset(train_tiles_df, jan_tif_path, nov_jan_features_df, train_aoi_df)\n",
    "\n",
    "# TR2_april_val_dataset = SingleRasterPalaeochannelDataset(val_tiles_df, april_tif_path, march_april_features_df, val_aoi_df)\n",
    "# TR2_march_val_dataset = SingleRasterPalaeochannelDataset(val_tiles_df, march_tif_path, march_april_features_df, val_aoi_df)\n",
    "# TR2_august_val_dataset = SingleRasterPalaeochannelDataset(val_tiles_df, aug_tif_path, jul_aug_features_df, val_aoi_df)\n",
    "# TR2_july_val_dataset = SingleRasterPalaeochannelDataset(val_tiles_df, jul_tif_path, jul_aug_features_df, val_aoi_df)\n",
    "# TR2_nov_val_dataset = SingleRasterPalaeochannelDataset(val_tiles_df, nov_tif_path, nov_jan_features_df, val_aoi_df)\n",
    "# TR2_jan_val_dataset = SingleRasterPalaeochannelDataset(val_tiles_df, jan_tif_path, nov_jan_features_df, val_aoi_df)\n",
    "\n",
    "# full_train_dataset = ConcatDataset([TR2_april_train_dataset, TR2_march_train_dataset, TR2_august_train_dataset, TR2_july_train_dataset, TR2_nov_train_dataset, TR2_jan_train_dataset])\n",
    "# full_val_dataset = ConcatDataset([TR2_april_val_dataset, TR2_march_val_dataset, TR2_august_val_dataset, TR2_july_val_dataset, TR2_nov_val_dataset, TR2_jan_val_dataset])\n",
    "# print(f\"Datasets build! {len(full_train_dataset)} training tiles, {len(full_val_dataset)} validation tiles.\")"
   ]
  }
 ],
 "metadata": {
  "kernelspec": {
   "display_name": "Python 3",
   "language": "python",
   "name": "python3"
  },
  "language_info": {
   "codemirror_mode": {
    "name": "ipython",
    "version": 3
   },
   "file_extension": ".py",
   "mimetype": "text/x-python",
   "name": "python",
   "nbconvert_exporter": "python",
   "pygments_lexer": "ipython3",
   "version": "3.10.13"
  }
 },
 "nbformat": 4,
 "nbformat_minor": 5
}
